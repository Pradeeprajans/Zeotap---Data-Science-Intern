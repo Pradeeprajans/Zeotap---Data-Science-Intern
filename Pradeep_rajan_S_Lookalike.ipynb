{
 "cells": [
  {
   "cell_type": "code",
   "execution_count": 1,
   "id": "b6bad740-5858-4bbe-89ef-76eaa5a2d7f0",
   "metadata": {},
   "outputs": [],
   "source": [
    "import pandas as pd\n",
    "from sklearn.metrics.pairwise import cosine_similarity\n",
    "from sklearn.preprocessing import StandardScaler"
   ]
  },
  {
   "cell_type": "code",
   "execution_count": 2,
   "id": "739fd655-7405-49ae-b2e1-d4a04e327e4c",
   "metadata": {},
   "outputs": [],
   "source": [
    "\n",
    "# Loading data\n",
    "customers = pd.read_csv('Customers.csv')\n",
    "products = pd.read_csv('Products.csv')\n",
    "transactions = pd.read_csv('Transactions.csv')"
   ]
  },
  {
   "cell_type": "code",
   "execution_count": 3,
   "id": "311155c6-ca3b-47d6-a15f-11129f81b056",
   "metadata": {},
   "outputs": [],
   "source": [
    "# merging dataset on \"ProductID\"\n",
    "transactions_products = transactions.merge(products, on='ProductID')\n",
    "data = transactions_products.merge(customers, on='CustomerID')"
   ]
  },
  {
   "cell_type": "code",
   "execution_count": 4,
   "id": "0bed01dd-bd2e-411d-8fb9-eb596552e2e2",
   "metadata": {},
   "outputs": [],
   "source": [
    "#Feature engg\n",
    "\n",
    "customer_features = data.groupby('CustomerID').agg(\n",
    "    total_spent=('TotalValue', 'sum'),\n",
    "    total_transactions=('TransactionID', 'count'),\n",
    "    avg_transaction_value=('TotalValue', 'mean'),\n",
    "    product_diversity=('ProductID', 'nunique'),\n",
    "    region=('Region', lambda x: x.iloc[0])  # Assuming 'Region' is the column name\n",
    ").reset_index()\n"
   ]
  },
  {
   "cell_type": "code",
   "execution_count": 5,
   "id": "81aa870d-c732-4f52-add2-d5471fd729f4",
   "metadata": {},
   "outputs": [],
   "source": [
    "#Encode categorical features\n",
    "customer_features = pd.get_dummies(customer_features, columns=['region'], drop_first=True)\n"
   ]
  },
  {
   "cell_type": "code",
   "execution_count": 6,
   "id": "3abc2c6b-a638-4475-a7e4-b6b6702ecb7a",
   "metadata": {},
   "outputs": [],
   "source": [
    "# Standardise\n",
    "scaler = StandardScaler()\n",
    "scaled_features = scaler.fit_transform(customer_features.iloc[:, 1:])"
   ]
  },
  {
   "cell_type": "code",
   "execution_count": 7,
   "id": "15d2247e-1354-4337-8a0e-677b3c5d7e08",
   "metadata": {},
   "outputs": [],
   "source": [
    "similarity_matrix = cosine_similarity(scaled_features)\n"
   ]
  },
  {
   "cell_type": "code",
   "execution_count": 8,
   "id": "688add37-d909-4611-8c95-b351c7f42912",
   "metadata": {},
   "outputs": [],
   "source": [
    "# Top 3 looklike for each customer \n",
    "\n",
    "lookalike_map = {}\n",
    "for i, customer_id in enumerate(customer_features['CustomerID']):\n",
    "    similarities = list(enumerate(similarity_matrix[i]))\n",
    "    top_similar = sorted(similarities, key=lambda x: x[1], reverse=True)[1:4]\n",
    "    lookalike_map[customer_id] = [(customer_features['CustomerID'][j], score) for j, score in top_similar]"
   ]
  },
  {
   "cell_type": "code",
   "execution_count": 9,
   "id": "ec87eda0-ae57-4e39-9581-86989995a014",
   "metadata": {},
   "outputs": [],
   "source": [
    "#create a looklike.csv for C0001 to C0020\n",
    "lookalike_list = []\n",
    "for customer_id in customer_features['CustomerID']:\n",
    "    if customer_id in [f'C{i:04d}' for i in range(1, 21)]:\n",
    "        lookalike_list.append({\n",
    "            'cust_id': customer_id,\n",
    "            'lookalikes': lookalike_map[customer_id]\n",
    "        })\n",
    "\n",
    "lookalike_df = pd.DataFrame(lookalike_list)\n",
    "lookalike_df.to_csv('Lookalike.csv', index=False)"
   ]
  },
  {
   "cell_type": "code",
   "execution_count": 10,
   "id": "e57d7684-e4f6-4467-b9ce-564741333e0a",
   "metadata": {},
   "outputs": [
    {
     "name": "stdout",
     "output_type": "stream",
     "text": [
      "  cust_id                                         lookalikes\n",
      "0   C0001  [(C0137, 0.9999196989131426), (C0152, 0.999836...\n",
      "1   C0002  [(C0142, 0.976639238739811), (C0043, 0.9722585...\n",
      "2   C0003  [(C0133, 0.9950073885620306), (C0052, 0.967021...\n",
      "3   C0004  [(C0108, 0.9814012933872766), (C0113, 0.978655...\n",
      "4   C0005  [(C0159, 0.9995139993894759), (C0123, 0.984492...\n"
     ]
    }
   ],
   "source": [
    "print(lookalike_df.head())"
   ]
  },
  {
   "cell_type": "code",
   "execution_count": null,
   "id": "7a1ba2b0-8345-43f6-ad5c-74c7bbec28b7",
   "metadata": {},
   "outputs": [],
   "source": []
  }
 ],
 "metadata": {
  "kernelspec": {
   "display_name": "Python 3 (ipykernel)",
   "language": "python",
   "name": "python3"
  },
  "language_info": {
   "codemirror_mode": {
    "name": "ipython",
    "version": 3
   },
   "file_extension": ".py",
   "mimetype": "text/x-python",
   "name": "python",
   "nbconvert_exporter": "python",
   "pygments_lexer": "ipython3",
   "version": "3.11.7"
  }
 },
 "nbformat": 4,
 "nbformat_minor": 5
}
